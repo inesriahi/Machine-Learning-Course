{
 "cells": [
  {
   "cell_type": "markdown",
   "id": "555c0ea4",
   "metadata": {},
   "source": [
    "# Linear Regression\n",
    "\n",
    "Recall that Regression problems are aiming to predict continuous values (e.g. Price, Age, Salary, ...)"
   ]
  },
  {
   "cell_type": "code",
   "execution_count": 39,
   "id": "653a8621-e810-44ad-b1ac-fed52600d3c2",
   "metadata": {},
   "outputs": [],
   "source": [
    "import numpy as np\n",
    "import matplotlib.pyplot as plt\n",
    "import pandas as pd"
   ]
  },
  {
   "cell_type": "code",
   "execution_count": 40,
   "id": "2e10eaa7-e9eb-4a08-9437-967d9e060fa8",
   "metadata": {},
   "outputs": [
    {
     "data": {
      "image/png": "[encoded data removed]",
      "text/plain": [
       "<Figure size 432x288 with 1 Axes>"
      ]
     },
     "metadata": {
      "needs_background": "light"
     },
     "output_type": "display_data"
    }
   ],
   "source": [
    "# Plot Data\n",
    "np.random.seed(0)\n",
    "x = np.linspace(0, 100, 100)\n",
    "y = 5 * x - 12\n",
    "ry = np.random.normal(scale=80,size=y.shape[0]) + y\n",
    "# Initilize a DataFrame for the data\n",
    "data = pd.DataFrame({'x': x, 'y':ry}).sample(frac=1).reset_index()[['index', 'y']].rename({'index':'x'}, axis=1)\n",
    "plt.plot(x, ry, 'o')\n",
    "plt.xlabel('x')\n",
    "plt.ylabel('y')\n",
    "plt.show()"
   ]
  },
  {
   "cell_type": "code",
   "execution_count": 41,
   "id": "0289ba90-fb77-43d4-836c-0317ab75329c",
   "metadata": {},
   "outputs": [
    {
     "data": {
      "image/png": "[encoded data removed]",
      "text/plain": [
       "<Figure size 432x288 with 1 Axes>"
      ]
     },
     "metadata": {
      "needs_background": "light"
     },
     "output_type": "display_data"
    }
   ],
   "source": [
    "# Plot data with ground truth\n",
    "plt.plot(x, ry, 'o')\n",
    "plt.plot(x, y, 'r-')\n",
    "plt.xlabel('x')\n",
    "plt.ylabel('y')\n",
    "plt.show()"
   ]
  },
  {
   "cell_type": "markdown",
   "id": "29e2c150",
   "metadata": {},
   "source": [
    "**Psss...** <br>\n",
    "The ground truth line is $y = 5x-12$. But, let's see if our Linear Regression model can discover this."
   ]
  },
  {
   "cell_type": "code",
   "execution_count": 42,
   "id": "a97c5734",
   "metadata": {},
   "outputs": [
    {
     "data": {
      "text/html": [
       "<div>\n",
       "<style scoped>\n",
       "    .dataframe tbody tr th:only-of-type {\n",
       "        vertical-align: middle;\n",
       "    }\n",
       "\n",
       "    .dataframe tbody tr th {\n",
       "        vertical-align: top;\n",
       "    }\n",
       "\n",
       "    .dataframe thead th {\n",
       "        text-align: right;\n",
       "    }\n",
       "</style>\n",
       "<table border=\"1\" class=\"dataframe\">\n",
       "  <thead>\n",
       "    <tr style=\"text-align: right;\">\n",
       "      <th></th>\n",
       "      <th>x</th>\n",
       "      <th>y</th>\n",
       "    </tr>\n",
       "  </thead>\n",
       "  <tbody>\n",
       "    <tr>\n",
       "      <th>0</th>\n",
       "      <td>19</td>\n",
       "      <td>15.631937</td>\n",
       "    </tr>\n",
       "    <tr>\n",
       "      <th>1</th>\n",
       "      <td>6</td>\n",
       "      <td>94.310104</td>\n",
       "    </tr>\n",
       "    <tr>\n",
       "      <th>2</th>\n",
       "      <td>45</td>\n",
       "      <td>180.226783</td>\n",
       "    </tr>\n",
       "    <tr>\n",
       "      <th>3</th>\n",
       "      <td>57</td>\n",
       "      <td>300.076540</td>\n",
       "    </tr>\n",
       "    <tr>\n",
       "      <th>4</th>\n",
       "      <td>22</td>\n",
       "      <td>168.266007</td>\n",
       "    </tr>\n",
       "    <tr>\n",
       "      <th>...</th>\n",
       "      <td>...</td>\n",
       "      <td>...</td>\n",
       "    </tr>\n",
       "    <tr>\n",
       "      <th>95</th>\n",
       "      <td>13</td>\n",
       "      <td>63.390567</td>\n",
       "    </tr>\n",
       "    <tr>\n",
       "      <th>96</th>\n",
       "      <td>31</td>\n",
       "      <td>174.818658</td>\n",
       "    </tr>\n",
       "    <tr>\n",
       "      <th>97</th>\n",
       "      <td>85</td>\n",
       "      <td>568.964063</td>\n",
       "    </tr>\n",
       "    <tr>\n",
       "      <th>98</th>\n",
       "      <td>70</td>\n",
       "      <td>399.862599</td>\n",
       "    </tr>\n",
       "    <tr>\n",
       "      <th>99</th>\n",
       "      <td>32</td>\n",
       "      <td>78.593302</td>\n",
       "    </tr>\n",
       "  </tbody>\n",
       "</table>\n",
       "<p>100 rows × 2 columns</p>\n",
       "</div>"
      ],
      "text/plain": [
       "     x           y\n",
       "0   19   15.631937\n",
       "1    6   94.310104\n",
       "2   45  180.226783\n",
       "3   57  300.076540\n",
       "4   22  168.266007\n",
       "..  ..         ...\n",
       "95  13   63.390567\n",
       "96  31  174.818658\n",
       "97  85  568.964063\n",
       "98  70  399.862599\n",
       "99  32   78.593302\n",
       "\n",
       "[100 rows x 2 columns]"
      ]
     },
     "execution_count": 42,
     "metadata": {},
     "output_type": "execute_result"
    }
   ],
   "source": [
    "# Display data\n",
    "data"
   ]
  },
  {
   "cell_type": "markdown",
   "id": "5ae65262",
   "metadata": {},
   "source": [
    "The line we want to find has the form:\n",
    "$$\\hat{y} = \\sum_{i=1}^{d} w_i \\cdot x + w_0$$\n",
    "And because we have only **one** variable, this can be written as:\n",
    "$$\\hat{y} = w_1 \\cdot x + w_0$$\n",
    "If we have **two** input variables:\n",
    "$$\\hat{y} = w_1 \\cdot x_1 + w_2 \\cdot x_2 + w_0$$\n",
    "And so on...\n",
    "\n",
    "The whole goal of **model fitting** is to find the weigths $w_i$ such that it results in the least prediction error.\n",
    "We will go deeper in the next lesson.\n",
    "\n",
    "Let's now see how it is fitted using `scikit-learn`."
   ]
  },
  {
   "cell_type": "code",
   "execution_count": 43,
   "id": "6ebbf6a9",
   "metadata": {},
   "outputs": [],
   "source": [
    "# Initialize the model\n",
    "from sklearn.linear_model import LinearRegression\n",
    "\n",
    "# We have x (the input (1 variable)) and y (what we want to predict).\n",
    "model = LinearRegression()"
   ]
  },
  {
   "cell_type": "code",
   "execution_count": 44,
   "id": "161bc76b",
   "metadata": {},
   "outputs": [
    {
     "data": {
      "text/plain": [
       "LinearRegression()"
      ]
     },
     "execution_count": 44,
     "metadata": {},
     "output_type": "execute_result"
    }
   ],
   "source": [
    "# Fit the model\n",
    "x = data['x'].values.reshape((-1, 1))\n",
    "y = data['y'].values.reshape((-1, 1))\n",
    "model.fit(x, y)"
   ]
  },
  {
   "cell_type": "code",
   "execution_count": 45,
   "id": "6fe921a9",
   "metadata": {},
   "outputs": [],
   "source": [
    "# Let's inspect the coeficients! (w_1 in our case, since we have only one variable)\n",
    "w_1 = model.coef_"
   ]
  },
  {
   "cell_type": "code",
   "execution_count": 46,
   "id": "723bb350",
   "metadata": {},
   "outputs": [],
   "source": [
    "# And the intercept.. (w_0)\n",
    "w_0 = model.intercept_"
   ]
  },
  {
   "cell_type": "code",
   "execution_count": 47,
   "id": "dc9600f5",
   "metadata": {},
   "outputs": [
    {
     "data": {
      "text/plain": [
       "array([[4.81024092]])"
      ]
     },
     "execution_count": 47,
     "metadata": {},
     "output_type": "execute_result"
    }
   ],
   "source": [
    "w_1"
   ]
  },
  {
   "cell_type": "code",
   "execution_count": 48,
   "id": "882ccbb4",
   "metadata": {},
   "outputs": [
    {
     "data": {
      "text/plain": [
       "array([4.67771583])"
      ]
     },
     "execution_count": 48,
     "metadata": {},
     "output_type": "execute_result"
    }
   ],
   "source": [
    "w_0"
   ]
  },
  {
   "cell_type": "code",
   "execution_count": 51,
   "id": "f2314ea5",
   "metadata": {},
   "outputs": [
    {
     "data": {
      "image/png": "[encoded data removed]",
      "text/plain": [
       "<Figure size 432x288 with 1 Axes>"
      ]
     },
     "metadata": {
      "needs_background": "light"
     },
     "output_type": "display_data"
    }
   ],
   "source": [
    "pred_line = w_1[0,0] * x.reshape(-1) + w_0[0]\n",
    "plt.plot(x.reshape(-1), data['y'], 'o')\n",
    "plt.plot(x.reshape(-1), pred_line, 'r-')\n",
    "plt.plot(x.reshape(-1), 5 * x - 12, 'b-')\n",
    "plt.xlabel('x')\n",
    "plt.ylabel('y')\n",
    "plt.show()"
   ]
  },
  {
   "cell_type": "code",
   "execution_count": 53,
   "id": "b01d24a0",
   "metadata": {},
   "outputs": [
    {
     "name": "stdout",
     "output_type": "stream",
     "text": [
      "MSE error: 6453.189462199118\n",
      "RMSE:  80.33174629123357\n"
     ]
    }
   ],
   "source": [
    "from sklearn.metrics import mean_squared_error\n",
    "ypred = model.predict(x)\n",
    "print(\"MSE error:\", mean_squared_error(y, ypred))\n",
    "print(\"RMSE: \", np.sqrt(mean_squared_error(y, ypred)))"
   ]
  },
  {
   "cell_type": "markdown",
   "id": "b34f54dd",
   "metadata": {},
   "source": [
    "**Wow!** The Linear Regression Model could figure out this relation!\n",
    "\n",
    "Now, let's have a look on how can we use it in a real dataset from Kaggle:  <br>\n",
    "Here is the link: [House Prices - Advanced Regression Techniques](https://www.kaggle.com/competitions/house-prices-advanced-regression-techniques)"
   ]
  },
  {
   "cell_type": "code",
   "execution_count": null,
   "id": "b725ca50",
   "metadata": {},
   "outputs": [],
   "source": []
  }
 ],
 "metadata": {
  "kernelspec": {
   "display_name": "Python 3.7.12 ('base')",
   "language": "python",
   "name": "python3"
  },
  "language_info": {
   "codemirror_mode": {
    "name": "ipython",
    "version": 3
   },
   "file_extension": ".py",
   "mimetype": "text/x-python",
   "name": "python",
   "nbconvert_exporter": "python",
   "pygments_lexer": "ipython3",
   "version": "3.7.12"
  },
  "vscode": {
   "interpreter": {
    "hash": "a2ab3825ac7005fb7b26f112e9c99ae62f464c629e30b0d534c3b931b6cbc3ff"
   }
  }
 },
 "nbformat": 4,
 "nbformat_minor": 5
}
