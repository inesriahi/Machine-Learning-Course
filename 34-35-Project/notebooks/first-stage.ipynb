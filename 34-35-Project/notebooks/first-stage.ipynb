{
 "cells": [
  {
   "cell_type": "code",
   "execution_count": 37,
   "metadata": {},
   "outputs": [],
   "source": [
    "import pickle\n",
    "import pandas as pd"
   ]
  },
  {
   "cell_type": "code",
   "execution_count": 38,
   "metadata": {},
   "outputs": [],
   "source": [
    "car_dict = {\n",
    "    \"Levy\": 1399,\n",
    "    \"Manufacturer\": \"LEXUS\",\n",
    "    \"Model\": \"RX 450\",\n",
    "    \"Prod. year\": 2010,\n",
    "    \"Category\": \"Jeep\",\n",
    "    \"Leather interior\": \"Yes\",\n",
    "    \"Fuel type\": \"Hybrid\",\n",
    "    \"Engine volume\": 3.5,\n",
    "    \"Mileage\": 186005,\n",
    "    \"Cylinders\": 6.0,\n",
    "    \"Gear box type\": \"Automatic\",\n",
    "    \"Drive wheels\": \"4x4\",\n",
    "    \"Wheel\": \"Left wheel\",\n",
    "    \"Color\": \"Silver\",\n",
    "    \"Airbags\": 12\n",
    "}"
   ]
  },
  {
   "cell_type": "markdown",
   "metadata": {},
   "source": [
    "# Preprocessing Plan for Model Input\n",
    "\n",
    "## Input Handling\n",
    "- Ensure proper handling of input features in `replace_categorical_by_numerical`:\n",
    "  - **Engine Volume**: Accept as a numerical input.\n",
    "  - **Levy**: Input as a number; if not provided, use `0` as the default value.\n",
    "  - **Mileage**: Input as a numerical value.\n",
    "\n",
    "## Feature Engineering\n",
    "- Generate a new feature: **`Age`** (e.g., from the car's manufacturing year).\n",
    "  \n",
    "## Feature Removal\n",
    "- Remove the features: **`ID`, `Doors`, `Prod. year`** from the dataset.\n",
    "\n",
    "## Categorical Encoding\n",
    "1. **One-Hot Encoded Columns**:\n",
    "   - **`Leather interior`**: Categories → `Yes`, `No`.\n",
    "   - **`Gear box type`**: Categories → `Automatic`, `Tiptronic`, `Variator`, `Manual`.\n",
    "   - **`Drive wheels`**: Categories → `4x4`, `Front`, `Rear`.\n",
    "   - **`Wheel`**: Categories → `Left wheel`, `Right-hand drive`.\n",
    "\n",
    "2. **Label Encoded Columns**:\n",
    "   - **`Manufacturer`**\n",
    "   - **`Model`**\n",
    "   - **`Category`**\n",
    "   - **`Fuel type`**\n",
    "   - **`Color`**\n",
    "\n",
    "## Numerical Scaling\n",
    "- Scale the following numerical columns:\n",
    "  - **`Levy`**\n",
    "  - **`Engine volume`**\n",
    "  - **`Mileage`**\n",
    "  - **`Age`**"
   ]
  },
  {
   "cell_type": "code",
   "execution_count": 39,
   "metadata": {},
   "outputs": [
    {
     "data": {
      "text/html": [
       "<div>\n",
       "<style scoped>\n",
       "    .dataframe tbody tr th:only-of-type {\n",
       "        vertical-align: middle;\n",
       "    }\n",
       "\n",
       "    .dataframe tbody tr th {\n",
       "        vertical-align: top;\n",
       "    }\n",
       "\n",
       "    .dataframe thead th {\n",
       "        text-align: right;\n",
       "    }\n",
       "</style>\n",
       "<table border=\"1\" class=\"dataframe\">\n",
       "  <thead>\n",
       "    <tr style=\"text-align: right;\">\n",
       "      <th></th>\n",
       "      <th>Levy</th>\n",
       "      <th>Manufacturer</th>\n",
       "      <th>Model</th>\n",
       "      <th>Prod. year</th>\n",
       "      <th>Category</th>\n",
       "      <th>Leather interior</th>\n",
       "      <th>Fuel type</th>\n",
       "      <th>Engine volume</th>\n",
       "      <th>Mileage</th>\n",
       "      <th>Cylinders</th>\n",
       "      <th>Gear box type</th>\n",
       "      <th>Drive wheels</th>\n",
       "      <th>Wheel</th>\n",
       "      <th>Color</th>\n",
       "      <th>Airbags</th>\n",
       "    </tr>\n",
       "  </thead>\n",
       "  <tbody>\n",
       "    <tr>\n",
       "      <th>0</th>\n",
       "      <td>1399</td>\n",
       "      <td>LEXUS</td>\n",
       "      <td>RX 450</td>\n",
       "      <td>2010</td>\n",
       "      <td>Jeep</td>\n",
       "      <td>Yes</td>\n",
       "      <td>Hybrid</td>\n",
       "      <td>3.5</td>\n",
       "      <td>186005</td>\n",
       "      <td>6.0</td>\n",
       "      <td>Automatic</td>\n",
       "      <td>4x4</td>\n",
       "      <td>Left wheel</td>\n",
       "      <td>Silver</td>\n",
       "      <td>12</td>\n",
       "    </tr>\n",
       "  </tbody>\n",
       "</table>\n",
       "</div>"
      ],
      "text/plain": [
       "   Levy Manufacturer   Model  Prod. year Category Leather interior Fuel type  \\\n",
       "0  1399        LEXUS  RX 450        2010     Jeep              Yes    Hybrid   \n",
       "\n",
       "   Engine volume  Mileage  Cylinders Gear box type Drive wheels       Wheel  \\\n",
       "0            3.5   186005        6.0     Automatic          4x4  Left wheel   \n",
       "\n",
       "    Color  Airbags  \n",
       "0  Silver       12  "
      ]
     },
     "execution_count": 39,
     "metadata": {},
     "output_type": "execute_result"
    }
   ],
   "source": [
    "data = pd.DataFrame([car_dict])\n",
    "data"
   ]
  },
  {
   "cell_type": "code",
   "execution_count": 40,
   "metadata": {},
   "outputs": [],
   "source": [
    "from datetime import datetime\n",
    "\n",
    "data['Age'] = datetime.now().year - data['Prod. year']\n",
    "\n",
    "data = data.drop(columns=['Doors', 'Prod. year'], errors='ignore')"
   ]
  },
  {
   "cell_type": "code",
   "execution_count": 41,
   "metadata": {},
   "outputs": [
    {
     "data": {
      "text/html": [
       "<div>\n",
       "<style scoped>\n",
       "    .dataframe tbody tr th:only-of-type {\n",
       "        vertical-align: middle;\n",
       "    }\n",
       "\n",
       "    .dataframe tbody tr th {\n",
       "        vertical-align: top;\n",
       "    }\n",
       "\n",
       "    .dataframe thead th {\n",
       "        text-align: right;\n",
       "    }\n",
       "</style>\n",
       "<table border=\"1\" class=\"dataframe\">\n",
       "  <thead>\n",
       "    <tr style=\"text-align: right;\">\n",
       "      <th></th>\n",
       "      <th>Levy</th>\n",
       "      <th>Manufacturer</th>\n",
       "      <th>Model</th>\n",
       "      <th>Category</th>\n",
       "      <th>Leather interior</th>\n",
       "      <th>Fuel type</th>\n",
       "      <th>Engine volume</th>\n",
       "      <th>Mileage</th>\n",
       "      <th>Cylinders</th>\n",
       "      <th>Gear box type</th>\n",
       "      <th>Drive wheels</th>\n",
       "      <th>Wheel</th>\n",
       "      <th>Color</th>\n",
       "      <th>Airbags</th>\n",
       "      <th>Age</th>\n",
       "    </tr>\n",
       "  </thead>\n",
       "  <tbody>\n",
       "    <tr>\n",
       "      <th>0</th>\n",
       "      <td>1399</td>\n",
       "      <td>LEXUS</td>\n",
       "      <td>RX 450</td>\n",
       "      <td>Jeep</td>\n",
       "      <td>Yes</td>\n",
       "      <td>Hybrid</td>\n",
       "      <td>3.5</td>\n",
       "      <td>186005</td>\n",
       "      <td>6.0</td>\n",
       "      <td>Automatic</td>\n",
       "      <td>4x4</td>\n",
       "      <td>Left wheel</td>\n",
       "      <td>Silver</td>\n",
       "      <td>12</td>\n",
       "      <td>14</td>\n",
       "    </tr>\n",
       "  </tbody>\n",
       "</table>\n",
       "</div>"
      ],
      "text/plain": [
       "   Levy Manufacturer   Model Category Leather interior Fuel type  \\\n",
       "0  1399        LEXUS  RX 450     Jeep              Yes    Hybrid   \n",
       "\n",
       "   Engine volume  Mileage  Cylinders Gear box type Drive wheels       Wheel  \\\n",
       "0            3.5   186005        6.0     Automatic          4x4  Left wheel   \n",
       "\n",
       "    Color  Airbags  Age  \n",
       "0  Silver       12   14  "
      ]
     },
     "execution_count": 41,
     "metadata": {},
     "output_type": "execute_result"
    }
   ],
   "source": [
    "data"
   ]
  },
  {
   "cell_type": "code",
   "execution_count": 42,
   "metadata": {},
   "outputs": [],
   "source": [
    "one_hot_columns = ['Leather interior', 'Gear box type', 'Drive wheels', 'Wheel']\n",
    "\n",
    "with open('../models/one_hot_encoder.pkl', 'rb') as f:\n",
    "    one_hot_encoder = pickle.load(f)"
   ]
  },
  {
   "cell_type": "code",
   "execution_count": 43,
   "metadata": {},
   "outputs": [],
   "source": [
    "one_hot_columns = ['Leather interior', 'Gear box type', 'Drive wheels', 'Wheel']\n",
    "\n",
    "# 3. One-Hot Encode Categorical Columns\n",
    "with open('../models/one_hot_encoder.pkl', 'rb') as f:\n",
    "    one_hot_encoder = pickle.load(f)\n",
    "    \n",
    "# One-hot encoding for the new data\n",
    "encoded_data = one_hot_encoder.transform(data[one_hot_columns])\n",
    "encoded_data_df = pd.DataFrame(encoded_data, columns=one_hot_encoder.get_feature_names_out(one_hot_columns), index=data.index)\n",
    "\n",
    "# Concatenate the one-hot encoded data and drop original columns\n",
    "data = pd.concat([data, encoded_data_df], axis=1)\n",
    "data.drop(columns=one_hot_columns, inplace=True)"
   ]
  },
  {
   "cell_type": "code",
   "execution_count": 44,
   "metadata": {},
   "outputs": [],
   "source": [
    "# 4. Label Encode Categorical Columns\n",
    "label_encode_columns = ['Manufacturer', 'Model', 'Category', 'Fuel type', 'Color']\n",
    "\n",
    "# Load the saved label encoders\n",
    "with open('../models/label_encoders.pkl', 'rb') as f:\n",
    "    label_encoders = pickle.load(f)\n",
    "\n",
    "# Apply label encoding\n",
    "for column in label_encode_columns:\n",
    "    le = label_encoders[column]\n",
    "    data[column] = le.transform(data[column])"
   ]
  },
  {
   "cell_type": "code",
   "execution_count": 45,
   "metadata": {},
   "outputs": [
    {
     "data": {
      "text/html": [
       "<div>\n",
       "<style scoped>\n",
       "    .dataframe tbody tr th:only-of-type {\n",
       "        vertical-align: middle;\n",
       "    }\n",
       "\n",
       "    .dataframe tbody tr th {\n",
       "        vertical-align: top;\n",
       "    }\n",
       "\n",
       "    .dataframe thead th {\n",
       "        text-align: right;\n",
       "    }\n",
       "</style>\n",
       "<table border=\"1\" class=\"dataframe\">\n",
       "  <thead>\n",
       "    <tr style=\"text-align: right;\">\n",
       "      <th></th>\n",
       "      <th>Levy</th>\n",
       "      <th>Manufacturer</th>\n",
       "      <th>Model</th>\n",
       "      <th>Category</th>\n",
       "      <th>Fuel type</th>\n",
       "      <th>Engine volume</th>\n",
       "      <th>Mileage</th>\n",
       "      <th>Cylinders</th>\n",
       "      <th>Color</th>\n",
       "      <th>Airbags</th>\n",
       "      <th>...</th>\n",
       "      <th>Leather interior_Yes</th>\n",
       "      <th>Gear box type_Automatic</th>\n",
       "      <th>Gear box type_Manual</th>\n",
       "      <th>Gear box type_Tiptronic</th>\n",
       "      <th>Gear box type_Variator</th>\n",
       "      <th>Drive wheels_4x4</th>\n",
       "      <th>Drive wheels_Front</th>\n",
       "      <th>Drive wheels_Rear</th>\n",
       "      <th>Wheel_Left wheel</th>\n",
       "      <th>Wheel_Right-hand drive</th>\n",
       "    </tr>\n",
       "  </thead>\n",
       "  <tbody>\n",
       "    <tr>\n",
       "      <th>0</th>\n",
       "      <td>1399</td>\n",
       "      <td>28</td>\n",
       "      <td>1037</td>\n",
       "      <td>4</td>\n",
       "      <td>2</td>\n",
       "      <td>3.5</td>\n",
       "      <td>186005</td>\n",
       "      <td>6.0</td>\n",
       "      <td>12</td>\n",
       "      <td>12</td>\n",
       "      <td>...</td>\n",
       "      <td>1.0</td>\n",
       "      <td>1.0</td>\n",
       "      <td>0.0</td>\n",
       "      <td>0.0</td>\n",
       "      <td>0.0</td>\n",
       "      <td>1.0</td>\n",
       "      <td>0.0</td>\n",
       "      <td>0.0</td>\n",
       "      <td>1.0</td>\n",
       "      <td>0.0</td>\n",
       "    </tr>\n",
       "  </tbody>\n",
       "</table>\n",
       "<p>1 rows × 22 columns</p>\n",
       "</div>"
      ],
      "text/plain": [
       "   Levy  Manufacturer  Model  Category  Fuel type  Engine volume  Mileage  \\\n",
       "0  1399            28   1037         4          2            3.5   186005   \n",
       "\n",
       "   Cylinders  Color  Airbags  ...  Leather interior_Yes  \\\n",
       "0        6.0     12       12  ...                   1.0   \n",
       "\n",
       "   Gear box type_Automatic  Gear box type_Manual  Gear box type_Tiptronic  \\\n",
       "0                      1.0                   0.0                      0.0   \n",
       "\n",
       "   Gear box type_Variator  Drive wheels_4x4  Drive wheels_Front  \\\n",
       "0                     0.0               1.0                 0.0   \n",
       "\n",
       "   Drive wheels_Rear  Wheel_Left wheel  Wheel_Right-hand drive  \n",
       "0                0.0               1.0                     0.0  \n",
       "\n",
       "[1 rows x 22 columns]"
      ]
     },
     "execution_count": 45,
     "metadata": {},
     "output_type": "execute_result"
    }
   ],
   "source": [
    "data"
   ]
  },
  {
   "cell_type": "code",
   "execution_count": 46,
   "metadata": {},
   "outputs": [],
   "source": [
    "# 5. Scale column\n",
    "numerical_columns = ['Levy', 'Engine volume', 'Mileage', 'Age']\n",
    "\n",
    "with open('../models/scaler.pkl', 'rb') as f:\n",
    "    scaler = pickle.load(f)\n",
    "    \n",
    "data[numerical_columns] = scaler.transform(data[numerical_columns])"
   ]
  },
  {
   "cell_type": "code",
   "execution_count": 48,
   "metadata": {},
   "outputs": [
    {
     "data": {
      "text/plain": [
       "Index(['Levy', 'Manufacturer', 'Model', 'Category', 'Fuel type',\n",
       "       'Engine volume', 'Mileage', 'Cylinders', 'Color', 'Airbags', 'Age',\n",
       "       'Leather interior_No', 'Leather interior_Yes',\n",
       "       'Gear box type_Automatic', 'Gear box type_Manual',\n",
       "       'Gear box type_Tiptronic', 'Gear box type_Variator', 'Drive wheels_4x4',\n",
       "       'Drive wheels_Front', 'Drive wheels_Rear', 'Wheel_Left wheel',\n",
       "       'Wheel_Right-hand drive'],\n",
       "      dtype='object')"
      ]
     },
     "execution_count": 48,
     "metadata": {},
     "output_type": "execute_result"
    }
   ],
   "source": [
    "data.columns"
   ]
  },
  {
   "cell_type": "code",
   "execution_count": 49,
   "metadata": {},
   "outputs": [],
   "source": [
    "with open('../models/model.pkl', 'rb') as f:\n",
    "    model = pickle.load(f)"
   ]
  },
  {
   "cell_type": "code",
   "execution_count": 50,
   "metadata": {},
   "outputs": [
    {
     "data": {
      "text/plain": [
       "array([13377.36903993])"
      ]
     },
     "execution_count": 50,
     "metadata": {},
     "output_type": "execute_result"
    }
   ],
   "source": [
    "model.predict(data)"
   ]
  }
 ],
 "metadata": {
  "kernelspec": {
   "display_name": "base",
   "language": "python",
   "name": "python3"
  },
  "language_info": {
   "codemirror_mode": {
    "name": "ipython",
    "version": 3
   },
   "file_extension": ".py",
   "mimetype": "text/x-python",
   "name": "python",
   "nbconvert_exporter": "python",
   "pygments_lexer": "ipython3",
   "version": "3.9.18"
  }
 },
 "nbformat": 4,
 "nbformat_minor": 2
}
